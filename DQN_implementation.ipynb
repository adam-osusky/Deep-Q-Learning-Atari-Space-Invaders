{
 "cells": [
  {
   "cell_type": "markdown",
   "metadata": {},
   "source": [
    "# Deep Q Learning - Atari Space Invaders\n",
    "\n",
    "import modules"
   ]
  },
  {
   "cell_type": "code",
   "execution_count": null,
   "metadata": {},
   "outputs": [],
   "source": [
    "import tensorflow as tf\n",
    "from tensorflow import keras\n",
    "import numpy as np \n",
    "from collections import deque\n",
    "import random\n",
    "import retro \n"
   ]
  },
  {
   "cell_type": "markdown",
   "metadata": {},
   "source": [
    "check GPU"
   ]
  },
  {
   "cell_type": "code",
   "execution_count": null,
   "metadata": {},
   "outputs": [],
   "source": [
    "tf.config.list_physical_devices('GPU')\n",
    "from tensorflow.python.client import device_lib \n",
    "print(device_lib.list_local_devices())"
   ]
  },
  {
   "cell_type": "markdown",
   "metadata": {},
   "source": [
    "create environment"
   ]
  },
  {
   "cell_type": "code",
   "execution_count": null,
   "metadata": {},
   "outputs": [],
   "source": [
    "env = retro.make(game='SpaceInvaders-Atari2600')\n",
    "input_shape = env.observation_space.shape #pixel resolution\n",
    "n_outputs = env.action_space.n\n",
    "print(input_shape)\n",
    "print(n_outputs)"
   ]
  },
  {
   "cell_type": "markdown",
   "metadata": {},
   "source": [
    "preprocessing functions"
   ]
  },
  {
   "cell_type": "code",
   "execution_count": null,
   "metadata": {},
   "outputs": [],
   "source": [
    "def preprocces_img_1(img):\n",
    "    \n",
    "    #preprocessing only one frame\n",
    "\n",
    "    x= img[8:-12,4:-12]\n",
    "    x = x / 255.0\n",
    "    x = tf.image.rgb_to_grayscale(x)\n",
    "    x = tf.image.resize(x, [100, 84])\n",
    "    \n",
    "    return x"
   ]
  },
  {
   "cell_type": "code",
   "execution_count": null,
   "metadata": {},
   "outputs": [],
   "source": [
    "def preprocces_img_more(img):\n",
    "    \n",
    "    #preprocessing more frames\n",
    "    \n",
    "    x= img[:, 8:-12,4:-12]\n",
    "    x = x / 255.0\n",
    "    x = tf.image.rgb_to_grayscale(x)\n",
    "    x = tf.image.resize(x, [100, 84])\n",
    "    \n",
    "    return x"
   ]
  },
  {
   "cell_type": "code",
   "execution_count": null,
   "metadata": {},
   "outputs": [],
   "source": [
    "#shape sanity check\n",
    "\n",
    "x = np.random.rand( 64, 210, 160, 3)\n",
    "x= x[: ,8:-12,4:-12]\n",
    "x = x / 255.0\n",
    "x = tf.image.rgb_to_grayscale(x)\n",
    "x = tf.image.resize(x, [100, 84])\n",
    "x.shape"
   ]
  },
  {
   "cell_type": "markdown",
   "metadata": {},
   "source": [
    "create Neural Network"
   ]
  },
  {
   "cell_type": "code",
   "execution_count": null,
   "metadata": {},
   "outputs": [],
   "source": [
    "input_shape = [100, 84, 1]\n",
    "model = keras.models.Sequential([\n",
    "    keras.layers.InputLayer(input_shape),\n",
    "    keras.layers.Conv2D(32, kernel_size = 8, strides = 2, padding=\"valid\", activation='elu', kernel_initializer='glorot_normal'),\n",
    "    keras.layers.Conv2D(64, kernel_size = 4, strides = 2, padding=\"valid\", activation='elu', kernel_initializer='glorot_normal'),\n",
    "    keras.layers.Conv2D(64, kernel_size = 3, strides = 2, padding=\"valid\", activation='elu', kernel_initializer='glorot_normal'),\n",
    "    keras.layers.Flatten(),\n",
    "    keras.layers.Dense(512, activation='elu', kernel_initializer='glorot_normal'),\n",
    "    keras.layers.Dense(env.action_space.n)\n",
    "])"
   ]
  },
  {
   "cell_type": "markdown",
   "metadata": {},
   "source": [
    "helping functions"
   ]
  },
  {
   "cell_type": "code",
   "execution_count": null,
   "metadata": {},
   "outputs": [],
   "source": [
    "def epsilon_greedy_policy(state, epsilon=0):\n",
    "    if np.random.rand() < epsilon:\n",
    "        return np.random.randint(8)\n",
    "    else:\n",
    "        img = preprocces_img_1(obs)\n",
    "        img = np.expand_dims(img, axis=0)\n",
    "        Q_values = model.predict(img)\n",
    "        return np.argmax(Q_values[0])"
   ]
  },
  {
   "cell_type": "code",
   "execution_count": null,
   "metadata": {},
   "outputs": [],
   "source": [
    "replay_memory = deque(maxlen=1000000)"
   ]
  },
  {
   "cell_type": "code",
   "execution_count": null,
   "metadata": {},
   "outputs": [],
   "source": [
    "def sample_experiences(batch_size):\n",
    "    indices = np.random.randint(len(replay_memory), size=batch_size)\n",
    "    batch = [replay_memory[index] for index in indices]\n",
    "    states, actions, rewards, next_states, dones = [\n",
    "        np.array([experience[field_index] for experience in batch])\n",
    "        for field_index in range(5)]\n",
    "    return states, actions, rewards, next_states, dones"
   ]
  },
  {
   "cell_type": "code",
   "execution_count": null,
   "metadata": {},
   "outputs": [],
   "source": [
    "def play_one_step(env, state, epsilon):\n",
    "    action = epsilon_greedy_policy(state, epsilon)\n",
    "    action = tf.one_hot(action, 8)\n",
    "    next_state, reward, done, info = env.step(action)\n",
    "    replay_memory.append((state, action, reward, next_state, done))\n",
    "    return next_state, reward, done, info"
   ]
  },
  {
   "cell_type": "code",
   "execution_count": null,
   "metadata": {},
   "outputs": [],
   "source": [
    "\n",
    "batch_size = 64\n",
    "discount_rate = 0.95\n",
    "optimizer = keras.optimizers.Adam(lr=1e-3)\n",
    "loss_fn = keras.losses.mean_squared_error\n",
    "\n",
    "def training_step(batch_size):\n",
    "    experiences = sample_experiences(batch_size)\n",
    "    states, actions, rewards, next_states, dones = experiences\n",
    "    next_Q_values = model.predict(preprocces_img_more(next_states))\n",
    "\n",
    "    max_next_Q_values = np.max(next_Q_values, axis=1)\n",
    "\n",
    "    target_Q_values = (rewards + (1 - dones) * discount_rate * max_next_Q_values)\n",
    "    target_Q_values = target_Q_values.reshape(-1, 1)\n",
    "    mask = actions\n",
    "    #mask = tf.one_hot(actions, n_outputs)\n",
    "    with tf.GradientTape() as tape:\n",
    "        all_Q_values = model(preprocces_img_more(states))\n",
    "        Q_values = tf.reduce_sum(all_Q_values * mask, axis=1, keepdims=True)\n",
    "        loss = tf.reduce_mean(loss_fn(target_Q_values, Q_values))\n",
    "    grads = tape.gradient(loss, model.trainable_variables)\n",
    "    optimizer.apply_gradients(zip(grads, model.trainable_variables))"
   ]
  },
  {
   "cell_type": "code",
   "execution_count": null,
   "metadata": {},
   "outputs": [],
   "source": [
    "rewards = [] \n",
    "best_score = 0"
   ]
  },
  {
   "cell_type": "markdown",
   "metadata": {},
   "source": [
    "training "
   ]
  },
  {
   "cell_type": "code",
   "execution_count": null,
   "metadata": {},
   "outputs": [],
   "source": [
    "env.close()\n",
    "env = retro.make(game='SpaceInvaders-Atari2600')\n",
    "\n",
    "maxsteps = 50000\n",
    "env.reset()\n",
    "for episode in range(2):  #change range for desired number of episodes\n",
    "    obs = env.reset()    \n",
    "    for step in range(maxsteps):\n",
    "        epsilon = max(1 - episode / 100, 0.01)\n",
    "        obs, reward, done, info = play_one_step(env, obs, epsilon)\n",
    "        if done:\n",
    "            break\n",
    "    rewards.append(step) \n",
    "    if step > best_score: \n",
    "        best_weights = model.get_weights() \n",
    "        best_score = step\n",
    "        model.save('best_model_v1')\n",
    "    print(\"\\rEpisode: {}, Steps: {}, eps: {:.3f}\".format(episode, step + 1, epsilon), end=\"\")\n",
    "    if episode > 0:\n",
    "        training_step(batch_size)\n",
    "    if episode % 5:\n",
    "        model.save('model_v1_chckpnt')"
   ]
  },
  {
   "cell_type": "markdown",
   "metadata": {},
   "source": [
    "saving the model"
   ]
  },
  {
   "cell_type": "code",
   "execution_count": null,
   "metadata": {},
   "outputs": [],
   "source": [
    "model.save('test_v1')"
   ]
  },
  {
   "cell_type": "code",
   "execution_count": null,
   "metadata": {},
   "outputs": [],
   "source": []
  }
 ],
 "metadata": {
  "kernelspec": {
   "display_name": "Python 3",
   "language": "python",
   "name": "python3"
  },
  "language_info": {
   "codemirror_mode": {
    "name": "ipython",
    "version": 3
   },
   "file_extension": ".py",
   "mimetype": "text/x-python",
   "name": "python",
   "nbconvert_exporter": "python",
   "pygments_lexer": "ipython3",
   "version": "3.7.7"
  }
 },
 "nbformat": 4,
 "nbformat_minor": 4
}
