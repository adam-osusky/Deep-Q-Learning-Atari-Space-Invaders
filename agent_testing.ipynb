{
 "cells": [
  {
   "cell_type": "markdown",
   "metadata": {},
   "source": [
    "# Testing trained agent\n",
    "\n",
    "import modules"
   ]
  },
  {
   "cell_type": "code",
   "execution_count": null,
   "metadata": {},
   "outputs": [],
   "source": [
    "import tensorflow as tf\n",
    "from tensorflow import keras\n",
    "import numpy as np \n",
    "from collections import deque\n",
    "import random\n",
    "import retro "
   ]
  },
  {
   "cell_type": "markdown",
   "metadata": {},
   "source": [
    "load model"
   ]
  },
  {
   "cell_type": "code",
   "execution_count": null,
   "metadata": {},
   "outputs": [],
   "source": [
    "model = tf.keras.models.load_model('best_model_v1')"
   ]
  },
  {
   "cell_type": "markdown",
   "metadata": {},
   "source": [
    "helping functions"
   ]
  },
  {
   "cell_type": "code",
   "execution_count": null,
   "metadata": {},
   "outputs": [],
   "source": [
    "def preprocces_img_1(img):\n",
    "    \n",
    "    x= img[8:-12,4:-12]\n",
    "    x = x / 255.0\n",
    "    x = tf.image.rgb_to_grayscale(x)\n",
    "    x = tf.image.resize(x, [100, 84])\n",
    "    \n",
    "    return x"
   ]
  },
  {
   "cell_type": "markdown",
   "metadata": {},
   "source": [
    "result"
   ]
  },
  {
   "cell_type": "code",
   "execution_count": null,
   "metadata": {},
   "outputs": [],
   "source": [
    "env = retro.make(game='SpaceInvaders-Atari2600')\n",
    "obs = env.reset()\n",
    "\n",
    "\n",
    "episode = 0\n",
    "while episode <= 0:\n",
    "    for step in range(5000):\n",
    "        img = preprocces_img_1(obs)\n",
    "        img = np.expand_dims(img, axis=0)\n",
    "        Q_vals = model.predict(img)\n",
    "        action = np.argmax(Q_vals)\n",
    "        action = tf.one_hot(action, 8)\n",
    "        \n",
    "        obs, rew, done, info = env.step(env.action_space.sample())\n",
    "        env.render()\n",
    "        if done:\n",
    "            episode += 1\n",
    "            obs = env.reset()\n",
    "            break\n",
    "env.render(close=True)\n",
    "env.close()"
   ]
  },
  {
   "cell_type": "code",
   "execution_count": null,
   "metadata": {},
   "outputs": [],
   "source": []
  }
 ],
 "metadata": {
  "kernelspec": {
   "display_name": "Python 3",
   "language": "python",
   "name": "python3"
  },
  "language_info": {
   "codemirror_mode": {
    "name": "ipython",
    "version": 3
   },
   "file_extension": ".py",
   "mimetype": "text/x-python",
   "name": "python",
   "nbconvert_exporter": "python",
   "pygments_lexer": "ipython3",
   "version": "3.7.7"
  }
 },
 "nbformat": 4,
 "nbformat_minor": 4
}
